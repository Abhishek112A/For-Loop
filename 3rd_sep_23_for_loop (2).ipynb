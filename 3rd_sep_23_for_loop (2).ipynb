{
 "cells": [
  {
   "cell_type": "code",
   "execution_count": 1,
   "id": "73e87ecc-6d94-4bad-9bae-947c084757c2",
   "metadata": {},
   "outputs": [],
   "source": [
    "#BASIC LEVEL :"
   ]
  },
  {
   "cell_type": "code",
   "execution_count": 2,
   "id": "26562e84-ccc7-4d9b-b8fe-1e7668bbfae3",
   "metadata": {},
   "outputs": [
    {
     "name": "stdout",
     "output_type": "stream",
     "text": [
      "1\n",
      "2\n",
      "3\n",
      "4\n",
      "5\n",
      "6\n",
      "7\n",
      "8\n",
      "9\n",
      "10\n"
     ]
    }
   ],
   "source": [
    "#[Que.1] Write a python program to print the numbers from 1 to 10 using 'for' loop.\n",
    "\n",
    "for i in range(1, 11):\n",
    "    print(i)\n",
    "    "
   ]
  },
  {
   "cell_type": "code",
   "execution_count": 3,
   "id": "1167b3ae-1e70-4d6f-9663-1d8176990c4a",
   "metadata": {},
   "outputs": [
    {
     "name": "stdout",
     "output_type": "stream",
     "text": [
      "The sum of the all num in list: 17\n"
     ]
    }
   ],
   "source": [
    "#[Que.2] Create a program that calculates the sum of all numbers in a list using a 'for' loo\n",
    "\n",
    "def calculates_sum(numbers):\n",
    "    total_sum = 0\n",
    "    for num in numbers:\n",
    "        total_sum += num\n",
    "    return total_sum\n",
    "\n",
    "# Example uses :\n",
    "my_list = [1, 2, 3, 5, 6]\n",
    "result = calculates_sum(my_list)\n",
    "print(\"The sum of the all num in list:\", result)"
   ]
  },
  {
   "cell_type": "code",
   "execution_count": 4,
   "id": "39a73c10-27c5-42cd-b922-6c7e91a60991",
   "metadata": {},
   "outputs": [
    {
     "name": "stdout",
     "output_type": "stream",
     "text": [
      "!kehsihbA ,olleh\n"
     ]
    }
   ],
   "source": [
    "#[Que.3] write a program to print the characters of string in reverse order using for loop.\n",
    "\n",
    "def character_of_string(input_string):\n",
    "    reversed_string = \"\"\n",
    "    for char in reversed(input_string):\n",
    "        reversed_string += char\n",
    "        \n",
    "    print(reversed_string)\n",
    "    \n",
    "# Example uses :\n",
    "\n",
    "my_string = \"hello, Abhishek!\"\n",
    "character_of_string(my_string)\n",
    "    "
   ]
  },
  {
   "cell_type": "code",
   "execution_count": 6,
   "id": "ff66ff69-2b0b-4389-9196-db7f7880d729",
   "metadata": {},
   "outputs": [
    {
     "name": "stdin",
     "output_type": "stream",
     "text": [
      "Enter a number to calculate its factorial:  5\n"
     ]
    },
    {
     "name": "stdout",
     "output_type": "stream",
     "text": [
      "120\n"
     ]
    }
   ],
   "source": [
    "#[Que.4] Develop a program that finds the factorial of given number using a for loop.\n",
    "\n",
    "def calculate_factorial(num):\n",
    "    \n",
    "    factorial_result = 1\n",
    "    for i in range(1, num + 1):\n",
    "        factorial_result *= i\n",
    "        \n",
    "    return factorial_result\n",
    "\n",
    "# Example uses :\n",
    "user_input = int(input(\"Enter a number to calculate its factorial: \"))\n",
    "result = calculate_factorial(user_input)\n",
    "print(result)"
   ]
  },
  {
   "cell_type": "code",
   "execution_count": 6,
   "id": "d6775c26-2867-4a8d-9c15-4ad8c1499323",
   "metadata": {},
   "outputs": [
    {
     "name": "stdin",
     "output_type": "stream",
     "text": [
      "The print multiplication table:  5\n"
     ]
    },
    {
     "name": "stdout",
     "output_type": "stream",
     "text": [
      "Multiplication table for 5:\n",
      "5 x 1 = 5\n",
      "5 x 2 = 10\n",
      "5 x 3 = 15\n",
      "5 x 4 = 20\n",
      "5 x 5 = 25\n",
      "5 x 6 = 30\n",
      "5 x 7 = 35\n",
      "5 x 8 = 40\n",
      "5 x 9 = 45\n",
      "5 x 10 = 50\n"
     ]
    }
   ],
   "source": [
    "#[Que.5] Create a program to print the multiplication table of a given number using a `for` loop.\n",
    "\n",
    "def Multiplication_table(number):\n",
    "    \n",
    "    print(f\"Multiplication table for {number}:\")\n",
    "    for i in range(1, 11):\n",
    "        result = number * i\n",
    "        print(f\"{number} x {i} = {result}\")\n",
    "        \n",
    "\n",
    "# Example uses :\n",
    "multiplied_num = int(input(\"The print multiplication table: \"))\n",
    "Multiplication_table(multiplied_num)\n"
   ]
  },
  {
   "cell_type": "code",
   "execution_count": 7,
   "id": "5abb7106-6679-4dd2-9fa4-791e6e6e094c",
   "metadata": {},
   "outputs": [
    {
     "name": "stdout",
     "output_type": "stream",
     "text": [
      "Number of even numbers: 6\n",
      "Number of odd numbers: 7\n"
     ]
    }
   ],
   "source": [
    "#[Que.6] Write a program that counts the number of even and odd numbers in a list using a `for` loop.\n",
    "\n",
    "def count_even_odd(numbers):\n",
    "    \n",
    "    even_count = 0\n",
    "    odd_count = 0\n",
    "    \n",
    "    for num in numbers:\n",
    "        if num % 2 == 0:\n",
    "            even_count += 1\n",
    "        else:\n",
    "              odd_count += 1\n",
    "                   \n",
    "    return even_count, odd_count\n",
    "                   \n",
    "# Example uses :\n",
    "my_list = [1, 2, 3, 4, 5, 6, 7, 8, 9, 13, 15, 12, 16]\n",
    "even_count, odd_count = count_even_odd(my_list)\n",
    "\n",
    "print(f\"Number of even numbers: {even_count}\")\n",
    "print(f\"Number of odd numbers: {odd_count}\")"
   ]
  },
  {
   "cell_type": "code",
   "execution_count": 8,
   "id": "5c702060-e3e3-414c-95db-71c7eafc52af",
   "metadata": {},
   "outputs": [
    {
     "name": "stdout",
     "output_type": "stream",
     "text": [
      "Squares of Numbers 1 to 5 :\n",
      "1 = 1\n",
      "2 = 4\n",
      "3 = 9\n",
      "4 = 16\n",
      "5 = 25\n"
     ]
    }
   ],
   "source": [
    "#[Que.7] Develop a program that prints the squares of numbers from 1 to 5 using a `for` loop.\n",
    "\n",
    "def print_squares_numbers():\n",
    "    print(\"Squares of Numbers 1 to 5 :\")\n",
    "    for i in range(1, 6):\n",
    "        squares = i ** 2\n",
    "        print(f\"{i} = {squares}\")\n",
    "                \n",
    "print_squares_numbers()"
   ]
  },
  {
   "cell_type": "code",
   "execution_count": 9,
   "id": "1b9f645b-7a9c-45bd-9b63-3c245eead436",
   "metadata": {},
   "outputs": [
    {
     "name": "stdin",
     "output_type": "stream",
     "text": [
      "enter the string abhishek\n"
     ]
    },
    {
     "name": "stdout",
     "output_type": "stream",
     "text": [
      "length of string := 8\n"
     ]
    }
   ],
   "source": [
    "#[Que.8] Create a program to find the length of a string without using the `len()` function.\n",
    "\n",
    "def stringlength(strings):\n",
    "    count = 0\n",
    "    for i in strings:\n",
    "        count = count + 1\n",
    "    return count\n",
    "\n",
    "strings = input(\"enter the string\")\n",
    "length = stringlength(strings)\n",
    "print(f\"length of string := {length}\")"
   ]
  },
  {
   "cell_type": "code",
   "execution_count": 10,
   "id": "4969fb93-ab0a-47da-a720-8e2cf3b04063",
   "metadata": {},
   "outputs": [
    {
     "name": "stdout",
     "output_type": "stream",
     "text": [
      "calculates the average:  37.5\n"
     ]
    }
   ],
   "source": [
    "#[Que.9]  Write a program that calculates the average of a list of numbers using a `for` loop.\n",
    "\n",
    "'''def calculate_average(num):\n",
    "    average = sum(num)/len(num)\n",
    "    return average\n",
    "\n",
    "list1 = [10,20,30,40,34]\n",
    "print(\"average of list element\",calculate_average(list1))'''\n",
    "\n",
    "'''def calculate_average(num):\n",
    "    total = sum(num)/len(num)\n",
    "    return total\n",
    "\n",
    "list1 = list(map(int,input().split()))\n",
    "print('average of list number',calculate_average(list1))'''\n",
    "\n",
    "\n",
    "\n",
    "def calculates_average(num):\n",
    "    count = 0\n",
    "    for i in range(1,len(num)):\n",
    "        count += 1\n",
    "    total = sum(num)/count\n",
    "    return total\n",
    "        \n",
    "list1 = [10, 20, 30, 40, 50]\n",
    "average = calculates_average(list1)\n",
    "print(\"calculates the average: \", average)\n",
    "\n",
    "\n",
    "\n",
    "  \n",
    "\n"
   ]
  },
  {
   "cell_type": "code",
   "execution_count": 11,
   "id": "6b2b1a42-ae2b-4c25-920a-5cdba78aee61",
   "metadata": {},
   "outputs": [
    {
     "name": "stdin",
     "output_type": "stream",
     "text": [
      "Enter the value of n for the fibonacci sequence:  5\n"
     ]
    },
    {
     "name": "stdout",
     "output_type": "stream",
     "text": [
      "First 5 Fibonacci numbers: [0, 1, 1, 2, 3]\n",
      "None\n"
     ]
    }
   ],
   "source": [
    "#[Que.10] Develop a program that prints the first `n` Fibonacci numbers using a `for` loop.\n",
    "\n",
    "def print_fibonacci(n):\n",
    "    fibonacci_sequence = [0, 1]\n",
    "    \n",
    "    if n <= 0:\n",
    "        print(\"Please enter a positive integer.\")\n",
    "    elif n == 1:\n",
    "        print(\"First fibonacci number:\", fibonacci_sequence[0])\n",
    "    elif n == 2:\n",
    "        print(\"First two fibonacci numbers:\", fibonacci_sequence)\n",
    "    else:\n",
    "        for _ in range(2, n):\n",
    "            next_fibonacci = fibonacci_sequence[-1] + fibonacci_sequence[-2]\n",
    "            fibonacci_sequence.append(next_fibonacci)\n",
    "            \n",
    "        print(f\"First {n} Fibonacci numbers:\", fibonacci_sequence)\n",
    "        \n",
    "# Example uses :\n",
    "user_input = int(input(\"Enter the value of n for the fibonacci sequence: \"))\n",
    "print(print_fibonacci(user_input))"
   ]
  },
  {
   "cell_type": "code",
   "execution_count": 12,
   "id": "c36ce36e-c1a5-44c1-a36f-6c48a69aafd0",
   "metadata": {},
   "outputs": [],
   "source": [
    "# INTERMEDIATE LEVEL :"
   ]
  },
  {
   "cell_type": "code",
   "execution_count": 7,
   "id": "ba86f1a7-553b-443b-a661-7a791a0262d9",
   "metadata": {},
   "outputs": [
    {
     "name": "stdout",
     "output_type": "stream",
     "text": [
      "The list contains duplicates.\n"
     ]
    }
   ],
   "source": [
    "#[Que.11]  Write a program to check if a given list contains any duplicates using a `for` loop.\n",
    "\n",
    "def has_duplicates(lst):\n",
    "    list1 = set()\n",
    "    for item in lst:\n",
    "        if item in list1:\n",
    "            return True\n",
    "        list1.add(item)\n",
    "    return False\n",
    "\n",
    "\n",
    "my_list = [1, 3, 2, 4, 5, 3 ]\n",
    "if has_duplicates(my_list):\n",
    "    print(\"The list contains duplicates.\")\n",
    "else:\n",
    "    print(\"The list does not contains duplicates.\")"
   ]
  },
  {
   "cell_type": "code",
   "execution_count": 6,
   "id": "10877d5a-12c2-48a3-8dc4-bdb6d8e1597a",
   "metadata": {},
   "outputs": [
    {
     "name": "stdout",
     "output_type": "stream",
     "text": [
      "Prime numbers in the range 1 to 50:\n",
      "2 3 5 7 11 13 17 19 23 29 31 37 41 43 47 "
     ]
    }
   ],
   "source": [
    "#[Que.12]  Create a program that prints the prime numbers in a given range using a `for` loop.\n",
    "\n",
    "def is_prime(num):\n",
    "    \n",
    "    if num < 2:\n",
    "        return False\n",
    "    for i in range(2, int(num**0.5) + 1):\n",
    "        if num % i == 0:\n",
    "            return False\n",
    "    return True\n",
    "    \n",
    "def print_prime_in_range(start, end):\n",
    "    print(f\"Prime numbers in the range {start} to {end}:\")\n",
    "    for num in range(start, end + 1):\n",
    "        if is_prime(num):\n",
    "            print(num, end=\" \")\n",
    "                \n",
    "# Exaple uses :\n",
    "start_range = 1\n",
    "end_range = 50\n",
    "print_prime_in_range(start_range, end_range)\n",
    "\n",
    "    "
   ]
  },
  {
   "cell_type": "code",
   "execution_count": 9,
   "id": "4efac0b0-92c3-4b8a-b38f-59da39d24897",
   "metadata": {},
   "outputs": [
    {
     "name": "stdin",
     "output_type": "stream",
     "text": [
      "Enter a string:  Abhishek sakure ROSE\n"
     ]
    },
    {
     "name": "stdout",
     "output_type": "stream",
     "text": [
      "Number of vowels in the string: 8\n"
     ]
    }
   ],
   "source": [
    "#[Que.13]  Develop a program that counts the number of vowels in a string using a `for` loop.\n",
    "\n",
    "def count_vowels(input_string):\n",
    "    vowels = \"aioeuAEIOU\"\n",
    "    vowel_count = 0\n",
    "    \n",
    "    for char in input_string:\n",
    "        if char in vowels:\n",
    "            vowel_count += 1\n",
    "            \n",
    "    return vowel_count\n",
    "\n",
    "# Example uses :\n",
    "user_input = input(\"Enter a string: \")\n",
    "result = count_vowels(user_input)\n",
    "print(f\"Number of vowels in the string: {result}\")"
   ]
  },
  {
   "cell_type": "code",
   "execution_count": 4,
   "id": "4668a505-49c2-40be-b111-d1001d791d3b",
   "metadata": {},
   "outputs": [
    {
     "name": "stdout",
     "output_type": "stream",
     "text": [
      "The maximum element in the 2D list is: 9\n"
     ]
    }
   ],
   "source": [
    "#[Que.14] Write a program to find the maximum element in a 2D list using a nested `for` loop.\n",
    "\n",
    "def find_max_element(matrix):\n",
    "    #Assuming the matrix is not empty\n",
    "    max_element = matrix[0][0]\n",
    "    \n",
    "    for row in matrix:\n",
    "        for element in row:\n",
    "            if element > max_element:\n",
    "                max_element = element\n",
    "                \n",
    "    return max_element\n",
    "\n",
    "# Example uses :\n",
    "matrix = [\n",
    "    [3, 2, 4],\n",
    "    [2, 7, 5],\n",
    "    [8, 4, 9]\n",
    "]\n",
    "\n",
    "result = find_max_element(matrix)\n",
    "\n",
    "print(f\"The maximum element in the 2D list is: {result}\")"
   ]
  },
  {
   "cell_type": "code",
   "execution_count": 1,
   "id": "6da09c2a-4370-40aa-b1e5-005eb381c563",
   "metadata": {},
   "outputs": [
    {
     "name": "stdout",
     "output_type": "stream",
     "text": [
      "Original list: [1, 2, 3, 4, 2, 5, 2]\n",
      "List after removing 2: [1, 3, 4, 5]\n"
     ]
    }
   ],
   "source": [
    "#[Que.15]  Create a program that removes all occurrences of a specific element from a list using a `for` loop.\n",
    "\n",
    "def remove_element_in_place(lst, element_to_remove):\n",
    "    #Create a new list to store a result\n",
    "    result_list = []\n",
    "    \n",
    "    # Iterate through the elements of the original list\n",
    "    for element in lst:\n",
    "        # check if the current element is not equal to the element to remove\n",
    "        if element != element_to_remove:\n",
    "            # If not equal, add it to the result list\n",
    "            result_list.append(element)\n",
    "            \n",
    "    return result_list\n",
    "\n",
    "# Example uses :\n",
    "original_list = [1, 2, 3, 4, 2, 5, 2]\n",
    "element_to_remove = 2\n",
    "\n",
    "result = remove_element_in_place(original_list, element_to_remove)\n",
    "print(f\"Original list: {original_list}\")\n",
    "print(f\"List after removing {element_to_remove}: {result}\")"
   ]
  },
  {
   "cell_type": "code",
   "execution_count": 3,
   "id": "a86a076c-101d-4d30-89ee-098f4d68d143",
   "metadata": {},
   "outputs": [
    {
     "name": "stdout",
     "output_type": "stream",
     "text": [
      "1 x 1 = 1\n",
      "1 x 2 = 2\n",
      "1 x 3 = 3\n",
      "1 x 4 = 4\n",
      "1 x 5 = 5\n",
      "1 x 6 = 6\n",
      "1 x 7 = 7\n",
      "1 x 8 = 8\n",
      "1 x 9 = 9\n",
      "1 x 10 = 10\n",
      "\n",
      "2 x 1 = 2\n",
      "2 x 2 = 4\n",
      "2 x 3 = 6\n",
      "2 x 4 = 8\n",
      "2 x 5 = 10\n",
      "2 x 6 = 12\n",
      "2 x 7 = 14\n",
      "2 x 8 = 16\n",
      "2 x 9 = 18\n",
      "2 x 10 = 20\n",
      "\n",
      "3 x 1 = 3\n",
      "3 x 2 = 6\n",
      "3 x 3 = 9\n",
      "3 x 4 = 12\n",
      "3 x 5 = 15\n",
      "3 x 6 = 18\n",
      "3 x 7 = 21\n",
      "3 x 8 = 24\n",
      "3 x 9 = 27\n",
      "3 x 10 = 30\n",
      "\n",
      "4 x 1 = 4\n",
      "4 x 2 = 8\n",
      "4 x 3 = 12\n",
      "4 x 4 = 16\n",
      "4 x 5 = 20\n",
      "4 x 6 = 24\n",
      "4 x 7 = 28\n",
      "4 x 8 = 32\n",
      "4 x 9 = 36\n",
      "4 x 10 = 40\n",
      "\n",
      "5 x 1 = 5\n",
      "5 x 2 = 10\n",
      "5 x 3 = 15\n",
      "5 x 4 = 20\n",
      "5 x 5 = 25\n",
      "5 x 6 = 30\n",
      "5 x 7 = 35\n",
      "5 x 8 = 40\n",
      "5 x 9 = 45\n",
      "5 x 10 = 50\n",
      "\n"
     ]
    }
   ],
   "source": [
    "#[Que.16] Develop a program that generates a multiplication table for numbers from 1 to 5 using a nested `for` loop.\n",
    "\n",
    "# Define the range of numbers for the multiplication table\n",
    "start_range = 1\n",
    "end_range = 5\n",
    "\n",
    "# Nested for loop to generate the multiplication table\n",
    "for i in range(start_range, end_range + 1):\n",
    "    # Inner loop for each multiplier\n",
    "    for j in range(1, 11):\n",
    "        # Calculate the product\n",
    "        product = i * j\n",
    "        # Print the multiplication table entry\n",
    "        print(f\"{i} x {j} = {product}\")\n",
    "        \n",
    "    # Print a newline after each row to seprate the entries\n",
    "    print()\n",
    "        \n",
    "        \n",
    "            \n",
    "        "
   ]
  },
  {
   "cell_type": "code",
   "execution_count": 13,
   "id": "82b88260-1138-4f5a-a83a-4ad5abb0c216",
   "metadata": {},
   "outputs": [
    {
     "name": "stdout",
     "output_type": "stream",
     "text": [
      "32.00°F is 0.00°C\n",
      "212.00°F is 100.00°C\n",
      "98.60°F is 37.00°C\n",
      "68.00°F is 20.00°C\n"
     ]
    }
   ],
   "source": [
    "#[Que.17] Write a program that converts a list of Fahrenheit temperatures to Celsius using a `for` loop.\n",
    "\n",
    "def fahrenheit_to_celsius(fahrenheit):\n",
    "    # Convert Fahrenheit to Celsius using the formula\n",
    "    return (fahrenheit - 32) * 5/9\n",
    "\n",
    "def convert_temperatures(fahrenheit_list):\n",
    "    # Create a new list to store the Celsius temperatures\n",
    "    celsius_list = []\n",
    "\n",
    "    # Iterate through the Fahrenheit temperatures\n",
    "    for temp in fahrenheit_list:\n",
    "        # Convert each temperature and append to the result list\n",
    "        celsius_temp = fahrenheit_to_celsius(temp)\n",
    "        celsius_list.append(celsius_temp)\n",
    "\n",
    "    return celsius_list\n",
    "\n",
    "# Example usage:\n",
    "fahrenheit_temperatures = [32, 212, 98.6, 68]\n",
    "celsius_temperatures = convert_temperatures(fahrenheit_temperatures)\n",
    "\n",
    "# Display the results\n",
    "for i in range(len(fahrenheit_temperatures)):\n",
    "    print(f\"{fahrenheit_temperatures[i]:.2f}°F is {celsius_temperatures[i]:.2f}°C\")"
   ]
  },
  {
   "cell_type": "code",
   "execution_count": 14,
   "id": "d16594b8-b203-4b7a-89e4-2147383b88e5",
   "metadata": {},
   "outputs": [
    {
     "name": "stdout",
     "output_type": "stream",
     "text": [
      "Common elements: [4, 5, 2]\n"
     ]
    }
   ],
   "source": [
    "#[Que.18]  Create a program to print the common elements from two lists using a `for` loop.\n",
    "\n",
    "def find_common_elements(list1, list2):\n",
    "    common_elements = []\n",
    "    \n",
    "    # Iterate through the elements of the first list\n",
    "    for element1 in list1:\n",
    "        # Check if the current element is in the second list\n",
    "        if element1 in list2:\n",
    "            common_elements.append(element1)\n",
    "            \n",
    "    return common_elements\n",
    "\n",
    "list1 = [1, 3, 4, 5, 2, 9]\n",
    "list2 = [4, 5, 2, 6, 7, 8]\n",
    "\n",
    "common_elements = find_common_elements(list1, list2)\n",
    "\n",
    "# Print the result\n",
    "if common_elements:\n",
    "    print(\"Common elements:\", common_elements)\n",
    "else:\n",
    "    (\"No common elements found.\")"
   ]
  },
  {
   "cell_type": "code",
   "execution_count": 15,
   "id": "98504a97-3005-42f2-ae7b-5f971dcd6a0a",
   "metadata": {},
   "outputs": [
    {
     "name": "stdout",
     "output_type": "stream",
     "text": [
      "Right-angled triangle pattern with height 5:\n",
      "\n",
      "* \n",
      "* * \n",
      "* * * \n",
      "* * * * \n",
      "* * * * * \n"
     ]
    }
   ],
   "source": [
    "#[Que.19] Develop a program that prints the pattern of right-angled triangles using a `for` loop. Use ‘*’ to draw the pattern.\n",
    "\n",
    "# function to print right_angled triangle pattern\n",
    "def print_triangle_pattern(height):\n",
    "    for i in range(1, height + 1):\n",
    "        # Print '*' for each row up to the current row number\n",
    "        for j in range(1, i + 1):\n",
    "            print('*', end=' ')\n",
    "        # Move to the next line after completing a row\n",
    "        print()\n",
    "        \n",
    "# Example uses :\n",
    "triangle_height = 5\n",
    "print(f\"Right-angled triangle pattern with height {triangle_height}:\\n\")\n",
    "print_triangle_pattern(triangle_height)\n",
    "\n"
   ]
  },
  {
   "cell_type": "code",
   "execution_count": 2,
   "id": "c8b4d6d1-a217-45f8-9149-81e921f12776",
   "metadata": {},
   "outputs": [
    {
     "name": "stdin",
     "output_type": "stream",
     "text": [
      "Enter the first number:  5\n",
      "Enter the second number:  8\n"
     ]
    },
    {
     "name": "stdout",
     "output_type": "stream",
     "text": [
      "The GCD of 5 and 8 is: 1\n"
     ]
    }
   ],
   "source": [
    "#[Que.20]  Write a program to find the greatest common divisor (GCD) of two numbers using a `for` loop.\n",
    "\n",
    "def find_gcd(num1, num2):\n",
    "    # Ensure num1 is greater than or equal to num2\n",
    "    if num1 < num2:\n",
    "        num1, num2 = num2, num1\n",
    "        \n",
    "    # Initialize GCD to 1 (minimum possible value)\n",
    "    gcd = 1\n",
    "    \n",
    "    # Iterate from 2 to the smaller of the two numbers\n",
    "    for i in range(2, num2 + 1):\n",
    "        # Check if both numbers are divisible by the current value of i\n",
    "        if num1 % i == 0 and num2 % i == 0:\n",
    "              # Update GCD if i is a common divisor\n",
    "                gcd = i\n",
    "                \n",
    "    return gcd\n",
    "\n",
    "# Example usage:\n",
    "number1 = int(input(\"Enter the first number: \"))\n",
    "number2 = int(input(\"Enter the second number: \"))\n",
    "\n",
    "result = find_gcd(number1, number2)\n",
    "print(f\"The GCD of {number1} and {number2} is: {result}\")\n",
    "            \n",
    "        "
   ]
  },
  {
   "cell_type": "code",
   "execution_count": 3,
   "id": "7177534c-dbbc-4a0b-a7df-1fcf5dfd687b",
   "metadata": {},
   "outputs": [],
   "source": [
    "# Advanced Level :"
   ]
  },
  {
   "cell_type": "code",
   "execution_count": 6,
   "id": "f20f0812-2377-4a49-806d-c79124918d24",
   "metadata": {},
   "outputs": [
    {
     "name": "stdout",
     "output_type": "stream",
     "text": [
      "The sum of the digits in the list is : 45\n"
     ]
    }
   ],
   "source": [
    "#[Que.21] Create a program that calculates the sum of the digits of numbers in a list using a list comprehension.\n",
    "\n",
    "def digit_sum(number):\n",
    "    # Calculate the sum of the digits of a number\n",
    "    return sum(int(digit) for digit in str(number))\n",
    "\n",
    "def sum_of_digits_in_list(numbers):\n",
    "    # Use list comprehension to calculate the sum of digits for each number in the list\n",
    "    digit_sums = [digit_sum(num) for num in numbers]\n",
    "    \n",
    "    # Calculate the overall sum of digit sums\n",
    "    total_sum = sum(digit_sums)\n",
    "    \n",
    "    return total_sum\n",
    "\n",
    "# Example usage:\n",
    "numbers_list = [ 123, 456, 789]\n",
    "\n",
    "result = sum_of_digits_in_list(numbers_list)\n",
    "print(f\"The sum of the digits in the list is : {result}\")"
   ]
  },
  {
   "cell_type": "code",
   "execution_count": 1,
   "id": "e8f19642-4d55-4778-936b-4db8b3c9ddf9",
   "metadata": {},
   "outputs": [
    {
     "name": "stdin",
     "output_type": "stream",
     "text": [
      "Enter a number to find its prime fsctors:  5\n"
     ]
    },
    {
     "name": "stdout",
     "output_type": "stream",
     "text": [
      "The prime factors of 5 are: [5]\n"
     ]
    }
   ],
   "source": [
    "#[Que.22] Write a program to find the prime factors of a given number using a `for` loop and list comprehension.\n",
    "\n",
    "def prime_factors(n):\n",
    "    factors = [factor for factor in range(2, n + 1) if n % factor == 0 and all(factor % i != 0 for i in range(2, int(factor**0.5) + 1))]\n",
    "    return factors\n",
    "\n",
    "# Example usage :\n",
    "number = int(input(\"Enter a number to find its prime fsctors: \"))\n",
    "\n",
    "result = prime_factors(number)\n",
    "print(f\"The prime factors of {number} are: {result}\")"
   ]
  },
  {
   "cell_type": "code",
   "execution_count": 9,
   "id": "c15f1baa-60a2-4223-8d81-4e0d0a0c0849",
   "metadata": {},
   "outputs": [
    {
     "name": "stdout",
     "output_type": "stream",
     "text": [
      "Original List: [1, 2, 3, 4, 5, 6, 7, 3, 2, 8, 9, 9]\n",
      "List with Unique Elements: [1, 4, 5, 6, 7, 8]\n"
     ]
    }
   ],
   "source": [
    "#[Que.23] Develop a program that extracts unique elements from a list and stores them in a new list using a list comprehension.\n",
    "\n",
    "def extract_unique_element(input_list):\n",
    "    # Use a list comprehension to create a new list with unique elements\n",
    "    unique_elements = [elem for elem in input_list if input_list.count(elem) == 1]\n",
    "    \n",
    "    return unique_elements\n",
    "\n",
    "# Example usage:\n",
    "original_list = [1, 2, 3, 4, 5, 6, 7, 3, 2, 8, 9, 9]\n",
    "\n",
    "result = extract_unique_element(original_list)\n",
    "print(f\"Original List: {original_list}\")\n",
    "print(f\"List with Unique Elements: {result}\")"
   ]
  },
  {
   "cell_type": "code",
   "execution_count": 5,
   "id": "3057a62f-65c8-4adf-9fa4-93a201b836f8",
   "metadata": {},
   "outputs": [
    {
     "name": "stdout",
     "output_type": "stream",
     "text": [
      "Palindromic numbers up to 1000:\n",
      "[0, 1, 2, 3, 4, 5, 6, 7, 8, 9, 11, 22, 33, 44, 55, 66, 77, 88, 99, 101, 111, 121, 131, 141, 151, 161, 171, 181, 191, 202, 212, 222, 232, 242, 252, 262, 272, 282, 292, 303, 313, 323, 333, 343, 353, 363, 373, 383, 393, 404, 414, 424, 434, 444, 454, 464, 474, 484, 494, 505, 515, 525, 535, 545, 555, 565, 575, 585, 595, 606, 616, 626, 636, 646, 656, 666, 676, 686, 696, 707, 717, 727, 737, 747, 757, 767, 777, 787, 797, 808, 818, 828, 838, 848, 858, 868, 878, 888, 898, 909, 919, 929, 939, 949, 959, 969, 979, 989, 999]\n"
     ]
    }
   ],
   "source": [
    "#[Que.24] Create a program that generates a list of all palindromic numbers up to a specified limit using a list comprehension.\n",
    "\n",
    "def is_palindrome(number):\n",
    "    return str(number) == str(number)[::-1]\n",
    "\n",
    "def generate_palindromic_numbers(limit):\n",
    "    return [num for num in range(limit + 1) if is_palindrome(num)]\n",
    "\n",
    "# Example : Generate palindromic numbers up to 1000\n",
    "limit = 1000\n",
    "palindromic_numbers = generate_palindromic_numbers(limit)\n",
    "\n",
    "print(f\"Palindromic numbers up to {limit}:\")\n",
    "print(palindromic_numbers)\n",
    "                                 "
   ]
  },
  {
   "cell_type": "code",
   "execution_count": 8,
   "id": "610396b1-dd19-4523-8d66-296ea884c5e6",
   "metadata": {},
   "outputs": [
    {
     "name": "stdout",
     "output_type": "stream",
     "text": [
      "Original Nested List\n",
      "[1, [2, 3, [4, 5]], 6, [7, [8, 9]]]\n",
      "\n",
      "Flattened List:\n",
      "[1, 2, 3, 4, 5, 6, 7, 8, 9]\n"
     ]
    }
   ],
   "source": [
    "#[Que.25] Write a program to flatten a nested list using list comprehension.\n",
    "\n",
    "def flatten_nested_list(nested_list):\n",
    "    return [item for sublist in nested_list for item in (flatten_nested_list(sublist) if isinstance(sublist, list) else [sublist])]\n",
    "\n",
    "# Example : Flatten a nested list\n",
    "nested_list = [1, [2, 3, [4, 5]], 6, [7, [8, 9]]]\n",
    "flattened_list = flatten_nested_list(nested_list)\n",
    "\n",
    "print(\"Original Nested List\")\n",
    "print(nested_list)\n",
    "print(\"\\nFlattened List:\")\n",
    "print(flattened_list)"
   ]
  },
  {
   "cell_type": "code",
   "execution_count": 9,
   "id": "1a33804f-74eb-41b0-8dfe-921595a5f88c",
   "metadata": {},
   "outputs": [
    {
     "name": "stdout",
     "output_type": "stream",
     "text": [
      "Original List\n",
      "[1, 2, 3, 4, 5, 6, 7, 8, 9, 10]\n",
      "\n",
      "Sum of Even Numbers: 30\n",
      "Sum of Odd Numbers: 25\n"
     ]
    }
   ],
   "source": [
    "#[Que.26] Develop a program that computes the sum of even and odd numbers in a list separately using list comprehension.\n",
    "\n",
    "def sum_even_odd(numbers):\n",
    "    even_sum = sum([num for num in numbers if num % 2 == 0])\n",
    "    odd_sum = sum([num for num in numbers if num % 2 != 0])\n",
    "    return even_sum, odd_sum\n",
    "\n",
    "# Example : Compute sum of even and odd numbers in a list\n",
    "number_list = [1, 2, 3, 4, 5, 6, 7, 8, 9, 10]\n",
    "even_sum, odd_sum = sum_even_odd(number_list)\n",
    "\n",
    "print(\"Original List\")\n",
    "print(number_list)\n",
    "print(\"\\nSum of Even Numbers:\", even_sum)\n",
    "print(\"Sum of Odd Numbers:\", odd_sum)"
   ]
  },
  {
   "cell_type": "code",
   "execution_count": 12,
   "id": "2893171f-ec03-4b75-8526-ef5a8676d7f0",
   "metadata": {},
   "outputs": [
    {
     "name": "stdout",
     "output_type": "stream",
     "text": [
      "List of squares of odd Numbers between 1 to 10:\n",
      "[1, 9, 25, 49, 81]\n"
     ]
    }
   ],
   "source": [
    "#[Que.27] Create a program that generates a list of squares of odd numbers between 1 and 10 using list comprehension.\n",
    "\n",
    "# Generate a list of squares of odd numbers between 1 to 10\n",
    "squares_of_odd_numbers = [num**2 for num in range(1, 11) if num % 2 != 0]\n",
    "\n",
    "# Print the result\n",
    "print(\"List of squares of odd Numbers between 1 to 10:\")\n",
    "print(squares_of_odd_numbers)"
   ]
  },
  {
   "cell_type": "code",
   "execution_count": 13,
   "id": "b94d3f9b-cd84-4255-ac93-0fd1d3516ad1",
   "metadata": {},
   "outputs": [
    {
     "name": "stdout",
     "output_type": "stream",
     "text": [
      "Combined Dictionary:\n",
      "{'a': 1, 'b': 2, 'c': 3}\n"
     ]
    }
   ],
   "source": [
    "#[Que.28] Write a program that combines two lists into a dictionary using list comprehension.\n",
    "\n",
    "# Example lists\n",
    "keys = ['a', 'b', 'c']\n",
    "values = [1, 2, 3]\n",
    "\n",
    "# Combine lists into a dictionary using list comprehension\n",
    "combined_dict = {k: v for k, v in zip(keys, values)}\n",
    "\n",
    "# Print the result\n",
    "print(\"Combined Dictionary:\")\n",
    "print(combined_dict)"
   ]
  },
  {
   "cell_type": "code",
   "execution_count": 14,
   "id": "9cee38bd-c897-467f-bf07-60839db2f323",
   "metadata": {},
   "outputs": [
    {
     "name": "stdout",
     "output_type": "stream",
     "text": [
      "Original String:\n",
      "Hello, World!\n",
      "\n",
      "List of Vowels:\n",
      "['e', 'o', 'o']\n"
     ]
    }
   ],
   "source": [
    "#[Que.29] Develop a program that extracts the vowels from a string and stores them in a list using list comprehension.\n",
    "\n",
    "def extract_vowels(input_string):\n",
    "    vowels = [char for char in input_string if char.lower() in 'aioue']\n",
    "    return vowels\n",
    "\n",
    "# Example: Extract vowels from a string\n",
    "input_string = \"Hello, World!\"\n",
    "vowel_list = extract_vowels(input_string)\n",
    "\n",
    "print(\"Original String:\")\n",
    "print(input_string)\n",
    "print(\"\\nList of Vowels:\")\n",
    "print(vowel_list)"
   ]
  },
  {
   "cell_type": "code",
   "execution_count": 15,
   "id": "b337f1cb-2254-4f74-8a4d-a31cffd4d05d",
   "metadata": {},
   "outputs": [
    {
     "name": "stdout",
     "output_type": "stream",
     "text": [
      "Original List of String:\n",
      "['abc123', '45def', '789ghi', 'jkl!@#$%^&*()']\n",
      "\n",
      "List of Strings with Non-Numeric Characters Removed:\n",
      "['123', '45', '789', '']\n"
     ]
    }
   ],
   "source": [
    "#[Que.30] Create a program that removes all non-numeric characters from a list of strings using list comprehension.\n",
    "\n",
    "# Function to remove non-numeric characters from a list of strings\n",
    "def remove_non_numeric(strings):\n",
    "    return [''.join(char for char in s if char.isdigit()) for s in strings]\n",
    "\n",
    "# Example: Remove non-numeric characters from a llist of strings\n",
    "string_list = [\"abc123\", \"45def\", \"789ghi\", \"jkl!@#$%^&*()\"]\n",
    "numeric_strings = remove_non_numeric(string_list)\n",
    "\n",
    "print(\"Original List of String:\")\n",
    "print(string_list)\n",
    "print(\"\\nList of Strings with Non-Numeric Characters Removed:\")\n",
    "print(numeric_strings)"
   ]
  },
  {
   "cell_type": "code",
   "execution_count": 22,
   "id": "3e846787-e118-41bb-ad6b-b614d22b48fb",
   "metadata": {},
   "outputs": [
    {
     "name": "stdout",
     "output_type": "stream",
     "text": [
      "Prime numbers up to 50:\n",
      "[2, 3, 5, 7, 11, 13, 17, 19, 23, 29, 31, 37, 41, 43, 47]\n"
     ]
    }
   ],
   "source": [
    "#[Que.31] Write a program to generate a list of prime numbers using the Sieve of Eratosthenes algorithm and list comprehension.\n",
    "\n",
    "def sieve_of_eratosthenes(limit):\n",
    "    primes = [True] * (limit + 1)\n",
    "    primes[0], primes[1] = False, False  # 0 and 1 are not prime numbers\n",
    "\n",
    "    for i in range(2, int(limit**0.5) + 1):\n",
    "        if primes[i]:\n",
    "            primes[i*i:limit+1:i] = [False] * len(range(i*i, limit+1, i))\n",
    "\n",
    "    return [num for num in range(2, limit + 1) if primes[num]]\n",
    "\n",
    "# Example: Generate a list of prime numbers up to 50\n",
    "limit = 50\n",
    "prime_numbers = sieve_of_eratosthenes(limit)\n",
    "\n",
    "print(f\"Prime numbers up to {limit}:\")\n",
    "print(prime_numbers)\n"
   ]
  },
  {
   "cell_type": "code",
   "execution_count": 1,
   "id": "6d172780-7b25-488f-9b3f-9771bdc83359",
   "metadata": {},
   "outputs": [
    {
     "name": "stdin",
     "output_type": "stream",
     "text": [
      "Enter the limit:  10\n"
     ]
    },
    {
     "name": "stdout",
     "output_type": "stream",
     "text": [
      "Pythagorean triplets up to 10 are: [(3, 4, 5), (6, 8, 10)]\n"
     ]
    }
   ],
   "source": [
    "#[Que.32] Create a program that generates a list of all Pythagorean triplets up to a specified limit using list comprehension.\n",
    "\n",
    "def generate_pythagorean_triplets(limit):\n",
    "    triplets = [(a, b, c) for a in range(1, limit + 1)\n",
    "                            for b in range(a, limit + 1)\n",
    "                            for c in range(b, limit + 1)\n",
    "                            if a**2 + b**2 == c**2]\n",
    "      \n",
    "    return triplets\n",
    "\n",
    "# Example usage :\n",
    "limit = int(input(\"Enter the limit: \"))\n",
    "triplets = generate_pythagorean_triplets(limit)\n",
    "print(\"Pythagorean triplets up to\", limit, \"are:\", triplets)\n",
    "    \n",
    "                "
   ]
  },
  {
   "cell_type": "code",
   "execution_count": 2,
   "id": "62230ca1-a415-41e0-b843-34b7dcbe4b6e",
   "metadata": {},
   "outputs": [
    {
     "name": "stdout",
     "output_type": "stream",
     "text": [
      "All possible combination of [1, 2, 3] and ['a', 'b', 'c'] are: [(1, 'a'), (1, 'b'), (1, 'c'), (2, 'a'), (2, 'b'), (2, 'c'), (3, 'a'), (3, 'b'), (3, 'c')]\n"
     ]
    }
   ],
   "source": [
    "#[Que.33] Develop a program that generates a list of all possible combinations of two lists using list comprehension. \n",
    "\n",
    "def generates_combination(list1, list2):\n",
    "    combination = [(x, y) for x in list1 for y in list2]\n",
    "    \n",
    "    return combination\n",
    "\n",
    "list1 = [1, 2, 3]\n",
    "list2 = ['a', 'b', 'c']\n",
    "result = generates_combination(list1, list2)\n",
    "print(\"All possible combination of\", list1,\"and\", list2, \"are:\", result)"
   ]
  },
  {
   "cell_type": "code",
   "execution_count": 6,
   "id": "853da93b-a487-4e4d-bbc6-53383741e0ee",
   "metadata": {},
   "outputs": [
    {
     "name": "stdout",
     "output_type": "stream",
     "text": [
      "List: [1, 2, 3, 4, 5, 6, 7, 8, 5, 8, 9, 7, 8, 5]\n",
      "Mean: 5.571428571428571\n",
      "Median: 5.5\n",
      "Mode: [5, 8]\n"
     ]
    }
   ],
   "source": [
    "#[Que.34] Write a program that calculates the mean, median, and mode of a list of numbers using list comprehension.\n",
    "\n",
    "from collections import Counter\n",
    "\n",
    "def calculate_mean(numbers):\n",
    "    mean = sum(numbers) / len(numbers)\n",
    "    return mean\n",
    "\n",
    "def calculate_median(numbers):\n",
    "    sorted_numbers = sorted(numbers)\n",
    "    n = len(sorted_numbers)\n",
    "    \n",
    "    if n % 2 == 0:\n",
    "        mid1 = sorted_numbers[n // 2 - 1]\n",
    "        mid2 = sorted_numbers[n // 2]\n",
    "        median = (mid1 + mid2) / 2\n",
    "    else:\n",
    "        median = sorted_numbers[n // 2]\n",
    "        \n",
    "    return median\n",
    "\n",
    "def calculate_mode(numbers):\n",
    "    counts = Counter(numbers)\n",
    "    mode = [num for num, count in counts.items() if count == max(counts.values())]\n",
    "    return mode\n",
    "\n",
    "# Example usage:\n",
    "number_list = [1, 2, 3, 4, 5, 6, 7, 8, 5, 8, 9, 7, 8, 5]\n",
    "\n",
    "mean_result = calculate_mean(number_list)\n",
    "median_result = calculate_median(number_list)\n",
    "mode_result = calculate_mode(number_list)\n",
    "\n",
    "print(\"List:\", number_list)\n",
    "print(\"Mean:\", mean_result)\n",
    "print(\"Median:\", median_result)\n",
    "print(\"Mode:\", mode_result)"
   ]
  },
  {
   "cell_type": "code",
   "execution_count": 13,
   "id": "c830f1fd-3acc-471f-a8ff-9193fa6d4868",
   "metadata": {},
   "outputs": [
    {
     "name": "stdin",
     "output_type": "stream",
     "text": [
      "Enter the number of rows for Pascal's Triangle:  10\n"
     ]
    },
    {
     "name": "stdout",
     "output_type": "stream",
     "text": [
      "[1, 1]\n",
      "[1, 2, 1]\n",
      "[1, 2, 2, 1]\n",
      "[1, 2, 2, 2, 1]\n",
      "[1, 2, 2, 2, 2, 1]\n",
      "[1, 2, 2, 2, 2, 2, 1]\n",
      "[1, 2, 2, 2, 2, 2, 2, 1]\n",
      "[1, 2, 2, 2, 2, 2, 2, 2, 1]\n",
      "[1, 2, 2, 2, 2, 2, 2, 2, 2, 1]\n",
      "[1, 2, 2, 2, 2, 2, 2, 2, 2, 2, 1]\n"
     ]
    }
   ],
   "source": [
    "#[Que.35] Create a program that generates Pascal's triangle up to a specified number of rows using list comprehension.\n",
    "\n",
    "def generate_pascals_triangle(num_rows):\n",
    "    triangle = [[1] + [sum(pair) for pair in zip(row, row[1:])] +[1] for row in\n",
    "               [[1] * (i + 1) for i in range(num_rows)]]\n",
    "    return triangle\n",
    "\n",
    "def print_pascals_triangle(triangle):\n",
    "    for row in triangle:\n",
    "        print(row)\n",
    "        \n",
    "# Example usage:\n",
    "num_rows = int(input(\"Enter the number of rows for Pascal's Triangle: \"))\n",
    "pascals_triangle = generate_pascals_triangle(num_rows)\n",
    "print_pascals_triangle(pascals_triangle)\n",
    "\n"
   ]
  },
  {
   "cell_type": "code",
   "execution_count": 14,
   "id": "c61939f5-1aab-4c2c-a330-8184fe077af2",
   "metadata": {},
   "outputs": [
    {
     "name": "stdout",
     "output_type": "stream",
     "text": [
      "Sum of digits for factorial of 1: 1\n",
      "Sum of digits for factorial of 2: 2\n",
      "Sum of digits for factorial of 3: 6\n",
      "Sum of digits for factorial of 4: 6\n",
      "Sum of digits for factorial of 5: 3\n"
     ]
    }
   ],
   "source": [
    "#[Que.36] Develop a program that calculates the sum of the digits of a factorial of numbers from 1 to 5 using list comprehension.\n",
    "\n",
    "import math\n",
    "\n",
    "def calculate_digit_sum(factorial_number):\n",
    "    return sum(int(digit) for digit in str (math.factorial(factorial_number)))\n",
    "\n",
    "# Calculate the sum of digit for factorials of numbers from 1 to 5 using list coprehension\n",
    "digit_sums = [calculate_digit_sum(i) for i in range(1, 6)]\n",
    "\n",
    "# Display the results\n",
    "for i, digit_sum in enumerate(digit_sums, start=1):\n",
    "    print(f\"Sum of digits for factorial of {i}: {digit_sum}\")"
   ]
  },
  {
   "cell_type": "code",
   "execution_count": 16,
   "id": "a6ec9288-a124-47cb-9946-542920c4e6cc",
   "metadata": {},
   "outputs": [
    {
     "name": "stdin",
     "output_type": "stream",
     "text": [
      "Enter a sentence: Hello Google where is path\n"
     ]
    },
    {
     "name": "stdout",
     "output_type": "stream",
     "text": [
      "Longest word in the sentence: Google\n"
     ]
    }
   ],
   "source": [
    "#[Que.37] Write a program that finds the longest word in a sentence using list comprehension.\n",
    "\n",
    "def find_longest_word(sentence):\n",
    "    words = sentence.split()\n",
    "    longest_word = max(words, key=lambda word: len(word))\n",
    "    return longest_word\n",
    "\n",
    "# Example usage:\n",
    "input_sentence = input(\"Enter a sentence:\")\n",
    "longest_word_result = find_longest_word(input_sentence)\n",
    "print(\"Longest word in the sentence:\", longest_word_result)"
   ]
  },
  {
   "cell_type": "code",
   "execution_count": 17,
   "id": "e08696eb-9453-4f9a-95c3-f149df7929d5",
   "metadata": {},
   "outputs": [
    {
     "name": "stdout",
     "output_type": "stream",
     "text": [
      "Original list of strings: ['hello', 'world', 'python', 'programming', 'example']\n",
      "Filtered list with more than three vowels: []\n"
     ]
    }
   ],
   "source": [
    "#[Que.38] Create a program that filters a list of strings to include only those with more than three vowels using list comprehension.\n",
    "\n",
    "def count_vowels(word):\n",
    "    return sum(1 for char in word if char.lower() in 'aeiou')\n",
    "\n",
    "def filter_strings_with_more_than_three_vowels(string_list):\n",
    "    return [word for word in string_list if count_vowels(word) > 3]\n",
    "\n",
    "# Example usage:\n",
    "input_string = [\"hello\", \"world\", \"python\", \"programming\", \"example\"]\n",
    "filtered_strings = filter_strings_with_more_than_three_vowels(input_string)\n",
    "\n",
    "print(\"Original list of strings:\", input_string)\n",
    "print(\"Filtered list with more than three vowels:\", filtered_strings)"
   ]
  },
  {
   "cell_type": "code",
   "execution_count": 19,
   "id": "dd18b736-a938-4b40-bc37-1144741d4b66",
   "metadata": {},
   "outputs": [
    {
     "name": "stdout",
     "output_type": "stream",
     "text": [
      "Sum of digits for numbers from 1 to 1000: 13501\n"
     ]
    }
   ],
   "source": [
    "#[Que.39] Develop a program that calculates the sum of the digits of numbers from 1 to 1000 using list comprehension.\n",
    "\n",
    "def calculates_sum_of_digit(numbers):\n",
    "    return sum(int(digit) for digit in str(numbers))\n",
    "\n",
    "# Calculation thesum of digits for numbers from 1 to 1000 using list comprehension\n",
    "digit_sums = [calculates_sum_of_digit(i) for i in range(1, 1001)]\n",
    "\n",
    "# Display the results\n",
    "total_sum = sum(digit_sums)\n",
    "print(f\"Sum of digits for numbers from 1 to 1000: {total_sum}\")\n",
    "    "
   ]
  },
  {
   "cell_type": "code",
   "execution_count": null,
   "id": "3c76621d-9b1e-47a0-a5aa-33491ca3d283",
   "metadata": {},
   "outputs": [],
   "source": [
    "#[Que.40] Write a program that generates a list of prime palindromic numbers using list comprehension.\n",
    "\n",
    "def is_prime(num):\n",
    "    if num < 2:\n",
    "        return False\n",
    "    for i in range(2, int(num**0.5) + 1):\n",
    "        if num % i == 0:\n",
    "            return False\n",
    "    return True\n",
    "\n",
    "def generate_prime_palindromes(limit):\n",
    "    prime_palindromes = [num for num in range(1, limit + 1) if is_prime(num) and str(num) == str(num)[::-1]]\n",
    "    return prime_palindromes\n",
    "\n",
    "# Example usage:\n",
    "limit = int(input(\"Enter the limit: \"))\n",
    "prime_palindromes_list = generate_prime_palindromes(limit)\n",
    "print(\"Prim"
   ]
  }
 ],
 "metadata": {
  "kernelspec": {
   "display_name": "Python 3 (ipykernel)",
   "language": "python",
   "name": "python3"
  },
  "language_info": {
   "codemirror_mode": {
    "name": "ipython",
    "version": 3
   },
   "file_extension": ".py",
   "mimetype": "text/x-python",
   "name": "python",
   "nbconvert_exporter": "python",
   "pygments_lexer": "ipython3",
   "version": "3.10.8"
  }
 },
 "nbformat": 4,
 "nbformat_minor": 5
}
